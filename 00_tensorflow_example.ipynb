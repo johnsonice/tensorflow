{
 "cells": [
  {
   "cell_type": "code",
   "execution_count": 1,
   "metadata": {
    "collapsed": true
   },
   "outputs": [],
   "source": [
    "import tensorflow as tf\n",
    "import matplotlib.pyplot as plt\n",
    "%matplotlib inline"
   ]
  },
  {
   "cell_type": "markdown",
   "metadata": {},
   "source": [
    "### 1. Test tensor flow instaliation"
   ]
  },
  {
   "cell_type": "code",
   "execution_count": 2,
   "metadata": {
    "collapsed": false
   },
   "outputs": [
    {
     "name": "stdout",
     "output_type": "stream",
     "text": [
      "b'Hello, TensorFlow!'\n"
     ]
    }
   ],
   "source": [
    "hello = tf.constant('Hello, TensorFlow!')\n",
    "sess = tf.Session()\n",
    "print(sess.run(hello))"
   ]
  },
  {
   "cell_type": "markdown",
   "metadata": {},
   "source": [
    "### 2. MNIST datasets  -- example"
   ]
  },
  {
   "cell_type": "code",
   "execution_count": 3,
   "metadata": {
    "collapsed": true
   },
   "outputs": [],
   "source": [
    "from tensorflow.examples.tutorials.mnist import input_data"
   ]
  },
  {
   "cell_type": "code",
   "execution_count": 4,
   "metadata": {
    "collapsed": false
   },
   "outputs": [
    {
     "name": "stdout",
     "output_type": "stream",
     "text": [
      "Extracting data/mnist/train-images-idx3-ubyte.gz\n",
      "Extracting data/mnist/train-labels-idx1-ubyte.gz\n",
      "Extracting data/mnist/t10k-images-idx3-ubyte.gz\n",
      "Extracting data/mnist/t10k-labels-idx1-ubyte.gz\n"
     ]
    }
   ],
   "source": [
    "## download data from google, dump it to data.mnist\n",
    "mnist= input_data.read_data_sets('data/mnist/',one_hot=True)"
   ]
  },
  {
   "cell_type": "markdown",
   "metadata": {},
   "source": [
    "##### take a look at our data"
   ]
  },
  {
   "cell_type": "code",
   "execution_count": 43,
   "metadata": {
    "collapsed": false,
    "scrolled": true
   },
   "outputs": [
    {
     "name": "stdout",
     "output_type": "stream",
     "text": [
      "(55000, 784)\n"
     ]
    },
    {
     "data": {
      "text/plain": [
       "<matplotlib.image.AxesImage at 0x7fe25ed456d8>"
      ]
     },
     "execution_count": 43,
     "metadata": {},
     "output_type": "execute_result"
    },
    {
     "data": {
      "image/png": "[encoded data removed]",
      "text/plain": [
       "<matplotlib.figure.Figure at 0x7fe25ed88240>"
      ]
     },
     "metadata": {},
     "output_type": "display_data"
    }
   ],
   "source": [
    "## take a look at our train data \n",
    "## each row is a flattened image\n",
    "print(mnist.train.images.shape)\n",
    "## take a look at an image\n",
    "i = mnist.train.images[0].reshape(28,28)\n",
    "plt.imshow(i,cmap='Greys')"
   ]
  },
  {
   "cell_type": "code",
   "execution_count": 44,
   "metadata": {
    "collapsed": false
   },
   "outputs": [
    {
     "data": {
      "text/plain": [
       "array([ 0.,  0.,  0.,  0.,  0.,  0.,  0.,  1.,  0.,  0.])"
      ]
     },
     "execution_count": 44,
     "metadata": {},
     "output_type": "execute_result"
    }
   ],
   "source": [
    "## take a look at the labels for the picture\n",
    "mnist.train.labels[0]"
   ]
  },
  {
   "cell_type": "markdown",
   "metadata": {},
   "source": [
    "##### set up some paramaters "
   ]
  },
  {
   "cell_type": "code",
   "execution_count": 45,
   "metadata": {
    "collapsed": true
   },
   "outputs": [],
   "source": [
    "## set up learning rate --- how fast you want it to learn \n",
    "learning_rate = 0.001    ## how big of a jump you want to take while optimizing\n",
    "training_epochs = 25     ## how many training cycles you want to go through \n",
    "batch_size = 100         ## batch size\n",
    "\n",
    "## shape you network layers \n",
    "n_classes = 10                        ## we have 0 - 9 numbers to be recognized \n",
    "n_samples = mnist.train.num_examples  ## training sample \n",
    "n_input = 784                         ## number of features, it is the size of our image pixels \n",
    "\n",
    "## set up your layers \n",
    "n_hidden_1 = 256                      ## 256 is commonly used for images, it is just the way computer saves colors \n",
    "n_hidden_2 = 256\n"
   ]
  },
  {
   "cell_type": "code",
   "execution_count": 46,
   "metadata": {
    "collapsed": true
   },
   "outputs": [],
   "source": [
    "def multilayer_perceptron(x,weights,biases):\n",
    "    '''\n",
    "    x: Placeholder for Data Input\n",
    "    weights: Dict of weights \n",
    "    biases: dict of bias values  ---------- errors \n",
    "    '''\n",
    "    # Fisrt Hidden Layer with RELU Activation\n",
    "    # X * W + B\n",
    "    layer_1 = tf.add(tf.matmul(x,weights['h1']),biases['b1'])\n",
    "    # Func(X * W + B) = RELU  -> f(x) = max(0,x)\n",
    "    layer_1 = tf.nn.relu(layer_1)\n",
    "    \n",
    "    # Second Hidden Layer\n",
    "    layer_2 = tf.add(tf.matmul(layer_1,weights['h2']),biases['b2'])\n",
    "    layer_2 = tf.nn.relu(layer_2)\n",
    "    \n",
    "    # Last Output Layer \n",
    "    out_layer = tf.matmul(layer_2,weights['out']) + biases['out']\n",
    "    \n",
    "    return out_layer "
   ]
  },
  {
   "cell_type": "code",
   "execution_count": 47,
   "metadata": {
    "collapsed": false
   },
   "outputs": [],
   "source": [
    "### initiate random weights and biases\n",
    "weights = {\n",
    "    'h1':tf.Variable(tf.random_normal([n_input,n_hidden_1])),     # here, it is a 55000 by 256 matrix for initiation\n",
    "    'h2':tf.Variable(tf.random_normal([n_hidden_1,n_hidden_2])),   # here, it is a 256 by 256 matrix for initiation\n",
    "    'out':tf.Variable(tf.random_normal([n_hidden_2,n_classes]))\n",
    "}\n",
    "biases = {\n",
    "    'b1':tf.Variable(tf.random_normal([n_hidden_1])),     # here, it is a 55000 by 256 matrix for initiation\n",
    "    'b2':tf.Variable(tf.random_normal([n_hidden_2])),   # here, it is a 256 by 256 matrix for initiation\n",
    "    'out':tf.Variable(tf.random_normal([n_classes]))\n",
    "}"
   ]
  },
  {
   "cell_type": "code",
   "execution_count": 48,
   "metadata": {
    "collapsed": false
   },
   "outputs": [],
   "source": [
    "## set two place holder for x and y \n",
    "x = tf.placeholder('float',[None,n_input])              # training place holder\n",
    "y = tf.placeholder('float',[None,n_classes])            # result place holder"
   ]
  },
  {
   "cell_type": "code",
   "execution_count": 49,
   "metadata": {
    "collapsed": false
   },
   "outputs": [],
   "source": [
    "## set up cost function and optimization function \n",
    "pred = multilayer_perceptron(x,weights,biases)\n",
    "cost = tf.reduce_mean(tf.nn.softmax_cross_entropy_with_logits(labels=y,logits=pred))\n",
    "optimizer = tf.train.AdamOptimizer(learning_rate=learning_rate).minimize(cost)"
   ]
  },
  {
   "cell_type": "markdown",
   "metadata": {},
   "source": [
    "##### now train the model "
   ]
  },
  {
   "cell_type": "code",
   "execution_count": 50,
   "metadata": {
    "collapsed": false
   },
   "outputs": [],
   "source": [
    "### launch a interactive session, and do things interactively \n",
    "### in production, you do not that interactive session \n",
    "sess = tf.InteractiveSession()\n",
    "init = tf.global_variables_initializer()\n",
    "sess.run(init)\n",
    "## initiate a session "
   ]
  },
  {
   "cell_type": "code",
   "execution_count": 52,
   "metadata": {
    "collapsed": false,
    "scrolled": true
   },
   "outputs": [
    {
     "name": "stdout",
     "output_type": "stream",
     "text": [
      "Epoch:1 cost:47.2085\n",
      "Epoch:2 cost:29.2690\n",
      "Epoch:3 cost:20.1834\n",
      "Epoch:4 cost:14.8160\n",
      "Epoch:5 cost:10.9753\n",
      "Epoch:6 cost:8.4736\n",
      "Epoch:7 cost:6.4503\n",
      "Epoch:8 cost:4.8048\n",
      "Epoch:9 cost:3.6390\n",
      "Epoch:10 cost:2.8173\n",
      "Epoch:11 cost:2.0970\n",
      "Epoch:12 cost:1.6535\n",
      "Epoch:13 cost:1.3141\n",
      "Epoch:14 cost:1.0210\n",
      "Epoch:15 cost:0.7544\n",
      "Epoch:16 cost:0.7022\n",
      "Epoch:17 cost:0.6474\n",
      "Epoch:18 cost:0.6115\n",
      "Epoch:19 cost:0.4512\n",
      "Epoch:20 cost:0.4913\n",
      "Epoch:21 cost:0.4531\n",
      "Epoch:22 cost:0.5117\n",
      "Epoch:23 cost:0.4027\n",
      "Epoch:24 cost:0.3098\n",
      "Epoch:25 cost:0.3705\n",
      "Epoch:26 cost:0.3563\n",
      "Epoch:27 cost:0.3495\n",
      "Epoch:28 cost:0.2758\n",
      "Epoch:29 cost:0.3348\n",
      "Epoch:30 cost:0.2968\n",
      "Epoch:31 cost:0.3009\n",
      "Epoch:32 cost:0.3100\n",
      "Epoch:33 cost:0.1985\n",
      "Epoch:34 cost:0.2988\n",
      "Epoch:35 cost:0.2888\n",
      "Epoch:36 cost:0.2661\n",
      "Epoch:37 cost:0.2052\n",
      "Epoch:38 cost:0.2456\n",
      "Epoch:39 cost:0.1996\n",
      "Epoch:40 cost:0.2191\n",
      "Epoch:41 cost:0.1595\n",
      "Epoch:42 cost:0.2796\n",
      "Epoch:43 cost:0.1723\n",
      "Epoch:44 cost:0.1942\n",
      "Epoch:45 cost:0.1933\n",
      "Epoch:46 cost:0.2090\n",
      "Epoch:47 cost:0.1750\n",
      "Epoch:48 cost:0.1901\n",
      "Epoch:49 cost:0.2111\n",
      "Epoch:50 cost:0.1974\n",
      "Epoch:51 cost:0.1997\n",
      "Epoch:52 cost:0.1873\n",
      "Epoch:53 cost:0.1489\n",
      "Epoch:54 cost:0.1651\n",
      "Epoch:55 cost:0.1454\n",
      "Epoch:56 cost:0.1980\n",
      "Epoch:57 cost:0.2072\n",
      "Epoch:58 cost:0.1580\n",
      "Epoch:59 cost:0.1379\n",
      "Epoch:60 cost:0.1599\n",
      "Epoch:61 cost:0.1625\n",
      "Epoch:62 cost:0.1329\n",
      "Epoch:63 cost:0.1357\n",
      "Epoch:64 cost:0.1895\n",
      "Epoch:65 cost:0.1339\n",
      "Epoch:66 cost:0.1096\n",
      "Epoch:67 cost:0.1517\n",
      "Epoch:68 cost:0.1719\n",
      "Epoch:69 cost:0.1021\n",
      "Epoch:70 cost:0.1299\n",
      "Epoch:71 cost:0.2018\n",
      "Epoch:72 cost:0.1811\n",
      "Epoch:73 cost:0.0961\n",
      "Epoch:74 cost:0.1580\n",
      "Epoch:75 cost:0.1219\n",
      "Epoch:76 cost:0.1245\n",
      "Epoch:77 cost:0.1064\n",
      "Epoch:78 cost:0.1386\n",
      "Epoch:79 cost:0.1315\n",
      "Epoch:80 cost:0.1371\n",
      "Epoch:81 cost:0.1186\n",
      "Epoch:82 cost:0.1212\n",
      "Epoch:83 cost:0.1186\n",
      "Epoch:84 cost:0.0720\n",
      "Epoch:85 cost:0.1481\n",
      "Epoch:86 cost:0.1265\n",
      "Epoch:87 cost:0.0899\n",
      "Epoch:88 cost:0.1898\n",
      "Epoch:89 cost:0.0880\n",
      "Epoch:90 cost:0.0925\n",
      "Epoch:91 cost:0.1297\n",
      "Epoch:92 cost:0.1148\n",
      "Epoch:93 cost:0.0942\n",
      "Epoch:94 cost:0.0609\n",
      "Epoch:95 cost:0.1300\n",
      "Epoch:96 cost:0.1212\n",
      "Epoch:97 cost:0.1082\n",
      "Epoch:98 cost:0.1192\n",
      "Epoch:99 cost:0.1163\n",
      "Epoch:100 cost:0.0878\n",
      "Model has completed 15 Epochs of training\n"
     ]
    }
   ],
   "source": [
    "## 15 loops  -- in real world, you will probably run thousands of iterations\n",
    "for epoch in range(training_epochs):  #training_epochs\n",
    "    #Cost \n",
    "    avg_cost = 0.0                           # set initial cost to be 0\n",
    "    total_batch = int(n_samples/batch_size)   # calculate number of batches \n",
    "    for i in range(total_batch):\n",
    "        batch_x,batch_y = mnist.train.next_batch(batch_size)                ## get training x and y from mnist data, for each batch \n",
    "        \n",
    "        _,c = sess.run([optimizer,cost],feed_dict={x:batch_x,y:batch_y})   ## get the cost after 1 iteration \n",
    "        avg_cost += c/total_batch                                          ## add up cost for each batch \n",
    "    print(\"Epoch:{} cost:{:.4f}\".format(epoch+1,avg_cost))\n",
    "print(\"Model has completed {} Epochs of training\".format(training_epochs))"
   ]
  },
  {
   "cell_type": "markdown",
   "metadata": {},
   "source": [
    "##### Model evaluations"
   ]
  },
  {
   "cell_type": "code",
   "execution_count": 54,
   "metadata": {
    "collapsed": false
   },
   "outputs": [],
   "source": [
    "## tf.equal() basicall check if x=y\n",
    "## pred is essentially out output layer, which is our predictions \n",
    "correct_predictions = tf.equal(tf.argmax(pred,1),tf.argmax(y,1))    ## returns a tf boolean array of correct predictions\n",
    "correct_predictions = tf.cast(correct_predictions,'float')\n",
    "accuracy = tf.reduce_mean(correct_predictions)                      ## get the mean of the o,1 array, which is the accuracy\n",
    "#### this accuracy is still a tf object, we can pass test data into it "
   ]
  },
  {
   "cell_type": "code",
   "execution_count": 55,
   "metadata": {
    "collapsed": false
   },
   "outputs": [
    {
     "data": {
      "text/plain": [
       "0.96619999"
      ]
     },
     "execution_count": 55,
     "metadata": {},
     "output_type": "execute_result"
    }
   ],
   "source": [
    "## pass in test data and get the accuracy \n",
    "accuracy.eval({x:mnist.test.images,y:mnist.test.labels})"
   ]
  }
 ],
 "metadata": {
  "kernelspec": {
   "display_name": "Python 3",
   "language": "python",
   "name": "python3"
  },
  "language_info": {
   "codemirror_mode": {
    "name": "ipython",
    "version": 3
   },
   "file_extension": ".py",
   "mimetype": "text/x-python",
   "name": "python",
   "nbconvert_exporter": "python",
   "pygments_lexer": "ipython3",
   "version": "3.5.2"
  }
 },
 "nbformat": 4,
 "nbformat_minor": 2
}

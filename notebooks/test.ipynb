{
 "cells": [
  {
   "cell_type": "code",
   "execution_count": 5,
   "metadata": {
    "collapsed": true
   },
   "outputs": [],
   "source": [
    "import tensorflow as tf\n",
    "import os\n",
    "import numpy as np\n",
    "import matplotlib.pyplot as plt\n",
    "%matplotlib inline\n",
    "plt.style.use('ggplot')"
   ]
  },
  {
   "cell_type": "code",
   "execution_count": 14,
   "metadata": {
    "collapsed": false
   },
   "outputs": [],
   "source": [
    "x = np.linspace(-3, 3, 100)\n",
    "x2 = tf.expand_dims(x, 0) ## in the first dimention, make it 1\n",
    "dims = x2.get_shape()"
   ]
  },
  {
   "cell_type": "code",
   "execution_count": 15,
   "metadata": {
    "collapsed": false
   },
   "outputs": [
    {
     "name": "stdout",
     "output_type": "stream",
     "text": [
      "[[-3.         -2.93939394 -2.87878788 -2.81818182 -2.75757576 -2.6969697\n",
      "  -2.63636364 -2.57575758 -2.51515152 -2.45454545 -2.39393939 -2.33333333\n",
      "  -2.27272727 -2.21212121 -2.15151515 -2.09090909 -2.03030303 -1.96969697\n",
      "  -1.90909091 -1.84848485 -1.78787879 -1.72727273 -1.66666667 -1.60606061\n",
      "  -1.54545455 -1.48484848 -1.42424242 -1.36363636 -1.3030303  -1.24242424\n",
      "  -1.18181818 -1.12121212 -1.06060606 -1.         -0.93939394 -0.87878788\n",
      "  -0.81818182 -0.75757576 -0.6969697  -0.63636364 -0.57575758 -0.51515152\n",
      "  -0.45454545 -0.39393939 -0.33333333 -0.27272727 -0.21212121 -0.15151515\n",
      "  -0.09090909 -0.03030303  0.03030303  0.09090909  0.15151515  0.21212121\n",
      "   0.27272727  0.33333333  0.39393939  0.45454545  0.51515152  0.57575758\n",
      "   0.63636364  0.6969697   0.75757576  0.81818182  0.87878788  0.93939394\n",
      "   1.          1.06060606  1.12121212  1.18181818  1.24242424  1.3030303\n",
      "   1.36363636  1.42424242  1.48484848  1.54545455  1.60606061  1.66666667\n",
      "   1.72727273  1.78787879  1.84848485  1.90909091  1.96969697  2.03030303\n",
      "   2.09090909  2.15151515  2.21212121  2.27272727  2.33333333  2.39393939\n",
      "   2.45454545  2.51515152  2.57575758  2.63636364  2.6969697   2.75757576\n",
      "   2.81818182  2.87878788  2.93939394  3.        ]]\n",
      "(1, 100)\n"
     ]
    }
   ],
   "source": [
    "with tf.Session() as sess:\n",
    "    print(x2.eval())\n",
    "    print(dims)"
   ]
  },
  {
   "cell_type": "code",
   "execution_count": null,
   "metadata": {
    "collapsed": true
   },
   "outputs": [],
   "source": []
  }
 ],
 "metadata": {
  "kernelspec": {
   "display_name": "Python 3",
   "language": "python",
   "name": "python3"
  },
  "language_info": {
   "codemirror_mode": {
    "name": "ipython",
    "version": 3
   },
   "file_extension": ".py",
   "mimetype": "text/x-python",
   "name": "python",
   "nbconvert_exporter": "python",
   "pygments_lexer": "ipython3",
   "version": "3.6.0"
  }
 },
 "nbformat": 4,
 "nbformat_minor": 2
}

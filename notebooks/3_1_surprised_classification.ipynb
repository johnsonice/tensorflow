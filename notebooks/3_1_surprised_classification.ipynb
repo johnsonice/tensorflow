{
 "cells": [
  {
   "cell_type": "code",
   "execution_count": 8,
   "metadata": {
    "collapsed": true
   },
   "outputs": [],
   "source": [
    "import tensorflow as tf\n",
    "import numpy as np\n",
    "import matplotlib.pyplot as plt\n",
    "import matplotlib.colors as colors\n",
    "import matplotlib.cm as cmx\n",
    "from tensorflow.examples.tutorials.mnist import input_data\n",
    "%matplotlib inline\n",
    "\n",
    "# Some additional libraries which we'll use just\n",
    "# to produce some visualizations of our training\n",
    "from libs.utils import montage\n",
    "from libs import gif\n",
    "import IPython.display as ipyd\n",
    "plt.style.use('ggplot')"
   ]
  },
  {
   "cell_type": "markdown",
   "metadata": {},
   "source": [
    "# Classifying pictures"
   ]
  },
  {
   "cell_type": "code",
   "execution_count": 9,
   "metadata": {
    "collapsed": false
   },
   "outputs": [
    {
     "data": {
      "text/plain": [
       "[]"
      ]
     },
     "execution_count": 9,
     "metadata": {},
     "output_type": "execute_result"
    }
   ],
   "source": [
    "## reset the default graph \n",
    "from tensorflow.python.framework import ops\n",
    "ops.reset_default_graph()\n",
    "g=tf.get_default_graph()\n",
    "[op.name for op in g.get_operations()]"
   ]
  },
  {
   "cell_type": "code",
   "execution_count": 10,
   "metadata": {
    "collapsed": false
   },
   "outputs": [
    {
     "name": "stdout",
     "output_type": "stream",
     "text": [
      "Extracting ../data/mnist/train-images-idx3-ubyte.gz\n",
      "Extracting ../data/mnist/train-labels-idx1-ubyte.gz\n",
      "Extracting ../data/mnist/t10k-images-idx3-ubyte.gz\n",
      "Extracting ../data/mnist/t10k-labels-idx1-ubyte.gz\n"
     ]
    }
   ],
   "source": [
    "# load data\n",
    "mnist= input_data.read_data_sets('../data/mnist/',one_hot=True) # load data using one hot "
   ]
  },
  {
   "cell_type": "code",
   "execution_count": 11,
   "metadata": {
    "collapsed": false,
    "scrolled": true
   },
   "outputs": [
    {
     "name": "stdout",
     "output_type": "stream",
     "text": [
      "label:  [ 0.  0.  0.  1.  0.  0.  0.  0.  0.  0.]\n"
     ]
    },
    {
     "data": {
      "text/plain": [
       "<matplotlib.image.AxesImage at 0x11e897828>"
      ]
     },
     "execution_count": 11,
     "metadata": {},
     "output_type": "execute_result"
    },
    {
     "data": {
      "image/png": "[encoded data removed]",
      "text/plain": [
       "<matplotlib.figure.Figure at 0x11bb869e8>"
      ]
     },
     "metadata": {},
     "output_type": "display_data"
    }
   ],
   "source": [
    "print('label: ',mnist.train.labels[1])\n",
    "plt.imshow(np.reshape(mnist.train.images[1], (28, 28)), cmap='gray')"
   ]
  },
  {
   "cell_type": "markdown",
   "metadata": {},
   "source": [
    "#### First let's try fully connected network "
   ]
  },
  {
   "cell_type": "code",
   "execution_count": 12,
   "metadata": {
    "collapsed": true
   },
   "outputs": [],
   "source": [
    "n_input = 28 * 28\n",
    "n_output = 10\n",
    "X = tf.placeholder(tf.float32, [None, n_input])         ## input place holder\n",
    "Y = tf.placeholder(tf.float32, [None, n_output])        ## output place holder "
   ]
  },
  {
   "cell_type": "code",
   "execution_count": 13,
   "metadata": {
    "collapsed": true
   },
   "outputs": [],
   "source": [
    "### linear graph structure \n",
    "def linear(x, n_output, name=None, activation=None, reuse=None):\n",
    "    if len(x.get_shape()) != 2:\n",
    "        x = flatten(x, reuse=reuse)\n",
    "    n_input = x.get_shape().as_list()[1]\n",
    "    with tf.variable_scope(name or \"fc\", reuse=reuse):\n",
    "        W = tf.get_variable(\n",
    "            name='W',\n",
    "            shape=[n_input, n_output],\n",
    "            dtype=tf.float32,\n",
    "            initializer=tf.contrib.layers.xavier_initializer())\n",
    "        b = tf.get_variable(\n",
    "            name='b',\n",
    "            shape=[n_output],\n",
    "            dtype=tf.float32,\n",
    "            initializer=tf.constant_initializer(0.0))\n",
    "        h = tf.nn.bias_add(\n",
    "            name='h',\n",
    "            value=tf.matmul(x, W),\n",
    "            bias=b)\n",
    "        if activation:\n",
    "            h = activation(h)\n",
    "        return h, W"
   ]
  },
  {
   "cell_type": "code",
   "execution_count": 14,
   "metadata": {
    "collapsed": false
   },
   "outputs": [],
   "source": [
    "## create firt layer\n",
    "Y_pred, W = linear(x=X,n_output=n_output,activation=tf.nn.softmax,name='layer1')\n",
    "#### softmax is more or less like logistic scaling, turn numbers into a probility "
   ]
  },
  {
   "cell_type": "markdown",
   "metadata": {},
   "source": [
    "- we define our cost function slightly differently here\n",
    "$$H(x) = - \\sum{Y_{true} * log(Y_{pred})}$$\n",
    "- the inituation is that if $Y_{pred}$ will be a probability for 10 classes, if the correct prediceted label get higher weight, the product will be higher, and the H(x) will be lower. we are tyring to find lowest H(x)"
   ]
  },
  {
   "cell_type": "code",
   "execution_count": 15,
   "metadata": {
    "collapsed": true
   },
   "outputs": [],
   "source": [
    "# We add 1e-12 because the log is undefined at 0.\n",
    "cross_entropy = -tf.reduce_sum(Y * tf.log(Y_pred + 1e-12))\n",
    "optimizer = tf.train.AdamOptimizer(0.001).minimize(cross_entropy)\n",
    "predicted_y = tf.argmax(Y_pred,1)  ## Y_pred, each row is an out put,is a row vector, so use asix =1 \n",
    "actual_y = tf.argmax(Y,1)          ## Y is also a row vector \n",
    "# calculate accuracy\n",
    "correct_prediction = tf.equal(predicted_y, actual_y)   ## two vector, see if they equal\n",
    "accuracy = tf.reduce_mean(tf.cast(correct_prediction, \"float\"))"
   ]
  },
  {
   "cell_type": "markdown",
   "metadata": {},
   "source": [
    "##### Train the network "
   ]
  },
  {
   "cell_type": "code",
   "execution_count": 16,
   "metadata": {
    "collapsed": false
   },
   "outputs": [
    {
     "name": "stdout",
     "output_type": "stream",
     "text": [
      "0.9084\n",
      "0.9204\n",
      "0.9216\n",
      "0.9256\n",
      "0.9282\n",
      "0.9246\n"
     ]
    }
   ],
   "source": [
    "sess = tf.Session()\n",
    "sess.run(tf.global_variables_initializer())\n",
    "# Now actually do some training:\n",
    "batch_size = 50\n",
    "n_epochs = 5\n",
    "n_batch = mnist.train.num_examples//batch_size \n",
    "for epoch_i in range(n_epochs):\n",
    "    for i in range(n_batch):\n",
    "        batch_xs, batch_ys = mnist.train.next_batch(batch_size) \n",
    "        sess.run(optimizer, feed_dict={X: batch_xs,Y: batch_ys})\n",
    "    valid = mnist.validation\n",
    "    print(sess.run(accuracy,feed_dict={X: valid.images,Y: valid.labels}))\n",
    "\n",
    "# Print final test accuracy:\n",
    "test = mnist.test\n",
    "print(sess.run(accuracy,\n",
    "               feed_dict={\n",
    "                   X: test.images,\n",
    "                   Y: test.labels\n",
    "               }))"
   ]
  },
  {
   "cell_type": "code",
   "execution_count": 17,
   "metadata": {
    "collapsed": false
   },
   "outputs": [
    {
     "data": {
      "text/plain": [
       "['Placeholder',\n",
       " 'Placeholder_1',\n",
       " 'layer1/W/Initializer/random_uniform/shape',\n",
       " 'layer1/W/Initializer/random_uniform/min',\n",
       " 'layer1/W/Initializer/random_uniform/max',\n",
       " 'layer1/W/Initializer/random_uniform/RandomUniform',\n",
       " 'layer1/W/Initializer/random_uniform/sub',\n",
       " 'layer1/W/Initializer/random_uniform/mul',\n",
       " 'layer1/W/Initializer/random_uniform',\n",
       " 'layer1/W',\n",
       " 'layer1/W/Assign',\n",
       " 'layer1/W/read',\n",
       " 'layer1/b/Initializer/Const',\n",
       " 'layer1/b',\n",
       " 'layer1/b/Assign',\n",
       " 'layer1/b/read',\n",
       " 'layer1/MatMul',\n",
       " 'layer1/h',\n",
       " 'layer1/Softmax',\n",
       " 'add/y',\n",
       " 'add',\n",
       " 'Log',\n",
       " 'mul',\n",
       " 'Const',\n",
       " 'Sum',\n",
       " 'Neg',\n",
       " 'gradients/Shape',\n",
       " 'gradients/Const',\n",
       " 'gradients/Fill',\n",
       " 'gradients/Neg_grad/Neg',\n",
       " 'gradients/Sum_grad/Reshape/shape',\n",
       " 'gradients/Sum_grad/Reshape',\n",
       " 'gradients/Sum_grad/Shape',\n",
       " 'gradients/Sum_grad/Tile',\n",
       " 'gradients/mul_grad/Shape',\n",
       " 'gradients/mul_grad/Shape_1',\n",
       " 'gradients/mul_grad/BroadcastGradientArgs',\n",
       " 'gradients/mul_grad/mul',\n",
       " 'gradients/mul_grad/Sum',\n",
       " 'gradients/mul_grad/Reshape',\n",
       " 'gradients/mul_grad/mul_1',\n",
       " 'gradients/mul_grad/Sum_1',\n",
       " 'gradients/mul_grad/Reshape_1',\n",
       " 'gradients/mul_grad/tuple/group_deps',\n",
       " 'gradients/mul_grad/tuple/control_dependency',\n",
       " 'gradients/mul_grad/tuple/control_dependency_1',\n",
       " 'gradients/Log_grad/Reciprocal',\n",
       " 'gradients/Log_grad/mul',\n",
       " 'gradients/add_grad/Shape',\n",
       " 'gradients/add_grad/Shape_1',\n",
       " 'gradients/add_grad/BroadcastGradientArgs',\n",
       " 'gradients/add_grad/Sum',\n",
       " 'gradients/add_grad/Reshape',\n",
       " 'gradients/add_grad/Sum_1',\n",
       " 'gradients/add_grad/Reshape_1',\n",
       " 'gradients/add_grad/tuple/group_deps',\n",
       " 'gradients/add_grad/tuple/control_dependency',\n",
       " 'gradients/add_grad/tuple/control_dependency_1',\n",
       " 'gradients/layer1/Softmax_grad/mul',\n",
       " 'gradients/layer1/Softmax_grad/Sum/reduction_indices',\n",
       " 'gradients/layer1/Softmax_grad/Sum',\n",
       " 'gradients/layer1/Softmax_grad/Reshape/shape',\n",
       " 'gradients/layer1/Softmax_grad/Reshape',\n",
       " 'gradients/layer1/Softmax_grad/sub',\n",
       " 'gradients/layer1/Softmax_grad/mul_1',\n",
       " 'gradients/layer1/h_grad/BiasAddGrad',\n",
       " 'gradients/layer1/h_grad/tuple/group_deps',\n",
       " 'gradients/layer1/h_grad/tuple/control_dependency',\n",
       " 'gradients/layer1/h_grad/tuple/control_dependency_1',\n",
       " 'gradients/layer1/MatMul_grad/MatMul',\n",
       " 'gradients/layer1/MatMul_grad/MatMul_1',\n",
       " 'gradients/layer1/MatMul_grad/tuple/group_deps',\n",
       " 'gradients/layer1/MatMul_grad/tuple/control_dependency',\n",
       " 'gradients/layer1/MatMul_grad/tuple/control_dependency_1',\n",
       " 'beta1_power/initial_value',\n",
       " 'beta1_power',\n",
       " 'beta1_power/Assign',\n",
       " 'beta1_power/read',\n",
       " 'beta2_power/initial_value',\n",
       " 'beta2_power',\n",
       " 'beta2_power/Assign',\n",
       " 'beta2_power/read',\n",
       " 'zeros',\n",
       " 'layer1/W/Adam',\n",
       " 'layer1/W/Adam/Assign',\n",
       " 'layer1/W/Adam/read',\n",
       " 'zeros_1',\n",
       " 'layer1/W/Adam_1',\n",
       " 'layer1/W/Adam_1/Assign',\n",
       " 'layer1/W/Adam_1/read',\n",
       " 'zeros_2',\n",
       " 'layer1/b/Adam',\n",
       " 'layer1/b/Adam/Assign',\n",
       " 'layer1/b/Adam/read',\n",
       " 'zeros_3',\n",
       " 'layer1/b/Adam_1',\n",
       " 'layer1/b/Adam_1/Assign',\n",
       " 'layer1/b/Adam_1/read',\n",
       " 'Adam/learning_rate',\n",
       " 'Adam/beta1',\n",
       " 'Adam/beta2',\n",
       " 'Adam/epsilon',\n",
       " 'Adam/update_layer1/W/ApplyAdam',\n",
       " 'Adam/update_layer1/b/ApplyAdam',\n",
       " 'Adam/mul',\n",
       " 'Adam/Assign',\n",
       " 'Adam/mul_1',\n",
       " 'Adam/Assign_1',\n",
       " 'Adam',\n",
       " 'ArgMax/dimension',\n",
       " 'ArgMax',\n",
       " 'ArgMax_1/dimension',\n",
       " 'ArgMax_1',\n",
       " 'Equal',\n",
       " 'Cast',\n",
       " 'Const_1',\n",
       " 'Mean',\n",
       " 'init']"
      ]
     },
     "execution_count": 17,
     "metadata": {},
     "output_type": "execute_result"
    }
   ],
   "source": [
    "# We first get the graph that we used to compute the network\n",
    "g = tf.get_default_graph()\n",
    "# And can inspect everything inside of it\n",
    "[op.name for op in g.get_operations()]"
   ]
  },
  {
   "cell_type": "markdown",
   "metadata": {},
   "source": [
    "#### We can also try to take a look at the weights "
   ]
  },
  {
   "cell_type": "markdown",
   "metadata": {},
   "source": [
    "Looking at the names of the operations, we see there is one linear/W. But this is the tf.Operation. Not the tf.Tensor. The tensor is the result of the operation. To get the result of the operation, we simply add \":0\" to the name of the operation:"
   ]
  },
  {
   "cell_type": "code",
   "execution_count": 18,
   "metadata": {
    "collapsed": false
   },
   "outputs": [
    {
     "name": "stdout",
     "output_type": "stream",
     "text": [
      "(784, 10)\n"
     ]
    },
    {
     "data": {
      "image/png": "[encoded data removed]",
      "text/plain": [
       "<matplotlib.figure.Figure at 0x11e8c39e8>"
      ]
     },
     "metadata": {},
     "output_type": "display_data"
    }
   ],
   "source": [
    "W = g.get_tensor_by_name('layer1/W:0')\n",
    "W_arr = np.array(W.eval(session=sess))\n",
    "print(W_arr.shape)\n",
    "fig, ax = plt.subplots(1, 10, figsize=(20, 3))\n",
    "for col_i in range(10):\n",
    "    ax[col_i].imshow(W_arr[:, col_i].reshape((28, 28)), cmap='coolwarm')"
   ]
  },
  {
   "cell_type": "markdown",
   "metadata": {},
   "source": [
    "##### So, warmer pixels mean heigher wieghts. So when the input picture has heigher values in those pexels, it is more likely to be in a particular number. We can almost see the shape of the number in these pictures. "
   ]
  },
  {
   "cell_type": "markdown",
   "metadata": {},
   "source": [
    "## Use Convolutional Networks\n",
    "- using 1 layer first"
   ]
  },
  {
   "cell_type": "code",
   "execution_count": 21,
   "metadata": {
    "collapsed": false
   },
   "outputs": [
    {
     "data": {
      "text/plain": [
       "[]"
      ]
     },
     "execution_count": 21,
     "metadata": {},
     "output_type": "execute_result"
    }
   ],
   "source": [
    "## reset the default graph \n",
    "from tensorflow.python.framework import ops\n",
    "ops.reset_default_graph()\n",
    "g=tf.get_default_graph()\n",
    "[op.name for op in g.get_operations()]"
   ]
  },
  {
   "cell_type": "code",
   "execution_count": 22,
   "metadata": {
    "collapsed": false,
    "scrolled": true
   },
   "outputs": [
    {
     "name": "stdout",
     "output_type": "stream",
     "text": [
      "Extracting ../data/mnist/train-images-idx3-ubyte.gz\n",
      "Extracting ../data/mnist/train-labels-idx1-ubyte.gz\n",
      "Extracting ../data/mnist/t10k-images-idx3-ubyte.gz\n",
      "Extracting ../data/mnist/t10k-labels-idx1-ubyte.gz\n"
     ]
    }
   ],
   "source": [
    "mnist= input_data.read_data_sets('../data/mnist/',one_hot=True)\n",
    "X = tf.placeholder(tf.float32, [None, n_input])         ## input place holder\n",
    "Y = tf.placeholder(tf.float32, [None, n_output])        ## output place holder \n",
    "\n",
    "# to apply convolution filter, transfrom tensor to 4d \n",
    "X_tensor = tf.reshape(X, [-1, 28, 28, 1])            ## again, -1 mean a constanst dimention, same as input number of rows "
   ]
  },
  {
   "cell_type": "code",
   "execution_count": 23,
   "metadata": {
    "collapsed": true
   },
   "outputs": [],
   "source": [
    "##################################\n",
    "## set up first layer ###\n",
    "##################################\n",
    "\n",
    "filter_size = 5             ## how big the window will be, it is 5 by 5 pixel here \n",
    "n_filters_in = 1            ## because the color is grey scale, so the chanel is 1\n",
    "n_filters_out = 32          ## use 32 filters\n",
    "W_1 = tf.get_variable(\n",
    "    name='W',\n",
    "    shape=[filter_size, filter_size, n_filters_in, n_filters_out], ## 5,5,1,32\n",
    "    initializer=tf.random_normal_initializer())\n",
    "## set bias variable, it is always the size of n_filters_out\n",
    "b_1 = tf.get_variable(\n",
    "    name='b',\n",
    "    shape=[n_filters_out],\n",
    "    initializer=tf.constant_initializer())\n",
    "h_1 = tf.nn.relu(\n",
    "    tf.nn.bias_add(\n",
    "        tf.nn.conv2d(input=X_tensor,\n",
    "                     filter=W_1,\n",
    "                     strides=[1, 2, 2, 1],  ## 2 by 2, will shink size\n",
    "                     padding='SAME'),\n",
    "        b_1))"
   ]
  },
  {
   "cell_type": "code",
   "execution_count": 24,
   "metadata": {
    "collapsed": true
   },
   "outputs": [],
   "source": [
    "##########################\n",
    "## set up second layer ###\n",
    "##########################\n",
    "\n",
    "n_filters_in = 32\n",
    "n_filters_out = 64\n",
    "W_2 = tf.get_variable(\n",
    "    name='W2',\n",
    "    shape=[filter_size, filter_size, n_filters_in, n_filters_out],\n",
    "    initializer=tf.random_normal_initializer())\n",
    "b_2 = tf.get_variable(\n",
    "    name='b2',\n",
    "    shape=[n_filters_out],\n",
    "    initializer=tf.constant_initializer())\n",
    "h_2 = tf.nn.relu(\n",
    "    tf.nn.bias_add(\n",
    "        tf.nn.conv2d(input=h_1,\n",
    "                 filter=W_2,\n",
    "                 strides=[1, 2, 2, 1],\n",
    "                 padding='SAME'),\n",
    "        b_2))"
   ]
  },
  {
   "cell_type": "code",
   "execution_count": 25,
   "metadata": {
    "collapsed": true
   },
   "outputs": [],
   "source": [
    "# We'll now reshape so we can connect to a fully-connected/linear layer:\n",
    "h_2_flat = tf.reshape(h_2, [-1, 7 * 7 * n_filters_out])\n",
    "\n",
    "# NOTE: This uses a slightly different version of the linear function than the lecture!\n",
    "h_3, W = linear(h_2_flat, 128, activation=tf.nn.relu, name='fc_1')\n",
    "# out put layer \n",
    "Y_pred, W = linear(h_3, n_output, activation=tf.nn.softmax, name='fc_2')   ## out put in n by 10 matrix"
   ]
  },
  {
   "cell_type": "markdown",
   "metadata": {
    "collapsed": true
   },
   "source": [
    "<img src = 'pic/Convolution_classification.PNG',height = 80%, wieght = 70%>"
   ]
  },
  {
   "cell_type": "markdown",
   "metadata": {},
   "source": [
    "#### Training the Network"
   ]
  },
  {
   "cell_type": "code",
   "execution_count": 27,
   "metadata": {
    "collapsed": false,
    "scrolled": true
   },
   "outputs": [
    {
     "name": "stdout",
     "output_type": "stream",
     "text": [
      "0.9222\n",
      "0.9668\n",
      "0.9756\n",
      "0.9742\n",
      "0.9684\n",
      "0.9643\n"
     ]
    }
   ],
   "source": [
    "cross_entropy = -tf.reduce_sum(Y * tf.log(Y_pred + 1e-12))\n",
    "optimizer = tf.train.AdamOptimizer().minimize(cross_entropy)\n",
    "\n",
    "correct_prediction = tf.equal(tf.argmax(Y_pred, 1), tf.argmax(Y, 1))\n",
    "accuracy = tf.reduce_mean(tf.cast(correct_prediction, 'float'))\n",
    "\n",
    "\n",
    "sess = tf.Session()\n",
    "sess.run(tf.global_variables_initializer())\n",
    "\n",
    "# Now actually do some training:\n",
    "batch_size = 50\n",
    "n_epochs = 5\n",
    "n_batch = mnist.train.num_examples//batch_size \n",
    "for epoch_i in range(n_epochs):\n",
    "    for i in range(n_batch):\n",
    "        batch_xs, batch_ys = mnist.train.next_batch(batch_size) \n",
    "        sess.run(optimizer, feed_dict={X: batch_xs,Y: batch_ys})\n",
    "    valid = mnist.validation\n",
    "    print(sess.run(accuracy,feed_dict={X: valid.images,Y: valid.labels}))\n",
    "\n",
    "# Print final test accuracy:\n",
    "test = mnist.test\n",
    "print(sess.run(accuracy,\n",
    "               feed_dict={\n",
    "                   X: test.images,\n",
    "                   Y: test.labels\n",
    "               }))"
   ]
  },
  {
   "cell_type": "markdown",
   "metadata": {},
   "source": [
    "#### Now let's try to predict "
   ]
  },
  {
   "cell_type": "code",
   "execution_count": 28,
   "metadata": {
    "collapsed": false
   },
   "outputs": [
    {
     "name": "stdout",
     "output_type": "stream",
     "text": [
      "predicted value:  [4]\n"
     ]
    },
    {
     "data": {
      "text/plain": [
       "<matplotlib.image.AxesImage at 0x1353767b8>"
      ]
     },
     "execution_count": 28,
     "metadata": {},
     "output_type": "execute_result"
    },
    {
     "data": {
      "image/png": "[encoded data removed]",
      "text/plain": [
       "<matplotlib.figure.Figure at 0x134e13898>"
      ]
     },
     "metadata": {},
     "output_type": "display_data"
    }
   ],
   "source": [
    "### now, try to predict one \n",
    "index = 110\n",
    "y_p = sess.run(Y_pred,feed_dict={X: mnist.test.images[index-1:index]})   ## X, need two dimentions,simply array won't work\n",
    "y_p = sess.run(tf.argmax(y_p, 1))\n",
    "print('predicted value: ', y_p)\n",
    "plt.imshow(np.reshape(mnist.test.images[index-1], (28, 28)), cmap='gray')"
   ]
  },
  {
   "cell_type": "markdown",
   "metadata": {},
   "source": [
    "#### Inspecting the Trained Network"
   ]
  },
  {
   "cell_type": "code",
   "execution_count": 29,
   "metadata": {
    "collapsed": false,
    "scrolled": false
   },
   "outputs": [
    {
     "data": {
      "text/plain": [
       "<matplotlib.image.AxesImage at 0x11c0b8080>"
      ]
     },
     "execution_count": 29,
     "metadata": {},
     "output_type": "execute_result"
    },
    {
     "data": {
      "image/png": "[encoded data removed]",
      "text/plain": [
       "<matplotlib.figure.Figure at 0x134dff748>"
      ]
     },
     "metadata": {},
     "output_type": "display_data"
    }
   ],
   "source": [
    "from libs.utils import montage_filters\n",
    "W1 = sess.run(W_1)\n",
    "plt.figure(figsize=(10, 10))\n",
    "plt.imshow(montage_filters(W1), cmap='coolwarm', interpolation='nearest')"
   ]
  },
  {
   "cell_type": "markdown",
   "metadata": {},
   "source": [
    "##### This is actually very difficult to inteprate, we will come back to this later "
   ]
  },
  {
   "cell_type": "markdown",
   "metadata": {},
   "source": [
    "### Saving/Loading Models"
   ]
  },
  {
   "cell_type": "markdown",
   "metadata": {
    "collapsed": true
   },
   "source": [
    "- need to work on this part later \n",
    "https://github.com/pkmital/CADL/blob/master/session-3/lecture-3.ipynb"
   ]
  },
  {
   "cell_type": "code",
   "execution_count": null,
   "metadata": {
    "collapsed": false
   },
   "outputs": [],
   "source": []
  },
  {
   "cell_type": "code",
   "execution_count": null,
   "metadata": {
    "collapsed": false
   },
   "outputs": [],
   "source": []
  },
  {
   "cell_type": "code",
   "execution_count": null,
   "metadata": {
    "collapsed": false
   },
   "outputs": [],
   "source": []
  },
  {
   "cell_type": "code",
   "execution_count": null,
   "metadata": {
    "collapsed": true
   },
   "outputs": [],
   "source": []
  }
 ],
 "metadata": {
  "kernelspec": {
   "display_name": "Python 3",
   "language": "python",
   "name": "python3"
  },
  "language_info": {
   "codemirror_mode": {
    "name": "ipython",
    "version": 3
   },
   "file_extension": ".py",
   "mimetype": "text/x-python",
   "name": "python",
   "nbconvert_exporter": "python",
   "pygments_lexer": "ipython3",
   "version": "3.5.2"
  }
 },
 "nbformat": 4,
 "nbformat_minor": 2
}

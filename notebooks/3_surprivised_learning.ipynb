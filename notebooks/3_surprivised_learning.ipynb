{
 "cells": [
  {
   "cell_type": "code",
   "execution_count": 1,
   "metadata": {
    "collapsed": false
   },
   "outputs": [
    {
     "data": {
      "text/html": [
       "<style> .rendered_html code { \n",
       "    padding: 2px 4px;\n",
       "    color: #c7254e;\n",
       "    background-color: #f9f2f4;\n",
       "    border-radius: 4px;\n",
       "} </style>"
      ],
      "text/plain": [
       "<IPython.core.display.HTML object>"
      ]
     },
     "execution_count": 1,
     "metadata": {},
     "output_type": "execute_result"
    }
   ],
   "source": [
    "import tensorflow as tf\n",
    "import numpy as np\n",
    "import matplotlib.pyplot as plt\n",
    "import matplotlib.colors as colors\n",
    "import matplotlib.cm as cmx\n",
    "%matplotlib inline\n",
    "\n",
    "# Some additional libraries which we'll use just\n",
    "# to produce some visualizations of our training\n",
    "from libs.utils import montage\n",
    "from libs import gif\n",
    "import IPython.display as ipyd\n",
    "plt.style.use('ggplot')\n",
    "\n",
    "# Bit of formatting because I don't like the default inline code style:\n",
    "from IPython.core.display import HTML\n",
    "HTML(\"\"\"<style> .rendered_html code { \n",
    "    padding: 2px 4px;\n",
    "    color: #c7254e;\n",
    "    background-color: #f9f2f4;\n",
    "    border-radius: 4px;\n",
    "} </style>\"\"\")"
   ]
  },
  {
   "cell_type": "markdown",
   "metadata": {},
   "source": [
    "## Use Autoencoders   -- unsurprised"
   ]
  },
  {
   "cell_type": "markdown",
   "metadata": {},
   "source": [
    "- An autoencoder is a type of neural network that learns to encode its inputs, often using much less data. It does so in a way that it can still output the original input with just the encoded values. For it to learn, it does not require \"labels\" as its output. Instead, it tries to output whatever it was given as input. So in goes an image, and out should also go the same image. But it has to be able to retain all the details of the image, even after possibly reducing the information down to just a few numbers.\n",
    "- We'll also explore how this method can be extended and used to cluster or organize a dataset, or to explore latent dimensions of a dataset that explain some interesting ideas. For instance, we'll see how with handwritten numbers, we will be able to see how each number can be encoded in the autoencoder without ever telling it which number is which."
   ]
  },
  {
   "cell_type": "markdown",
   "metadata": {},
   "source": [
    "#### Read mnist data"
   ]
  },
  {
   "cell_type": "code",
   "execution_count": 2,
   "metadata": {
    "collapsed": false
   },
   "outputs": [
    {
     "name": "stdout",
     "output_type": "stream",
     "text": [
      "Extracting ../data/mnist/train-images-idx3-ubyte.gz\n",
      "Extracting ../data/mnist/train-labels-idx1-ubyte.gz\n",
      "Extracting ../data/mnist/t10k-images-idx3-ubyte.gz\n",
      "Extracting ../data/mnist/t10k-labels-idx1-ubyte.gz\n"
     ]
    }
   ],
   "source": [
    "from tensorflow.examples.tutorials.mnist import input_data\n",
    "mnist= input_data.read_data_sets('../data/mnist/',one_hot=True)"
   ]
  },
  {
   "cell_type": "code",
   "execution_count": 3,
   "metadata": {
    "collapsed": false,
    "scrolled": true
   },
   "outputs": [
    {
     "name": "stdout",
     "output_type": "stream",
     "text": [
      "Label:  [ 0.  0.  0.  0.  0.  0.  0.  1.  0.  0.]\n"
     ]
    },
    {
     "data": {
      "image/png": "[encoded data removed]",
      "text/plain": [
       "<matplotlib.figure.Figure at 0x11a310b70>"
      ]
     },
     "metadata": {},
     "output_type": "display_data"
    }
   ],
   "source": [
    "## take a look at the first image\n",
    "i = mnist.train.images[0].reshape(28,28)\n",
    "plt.imshow(i,cmap='Greys')\n",
    "print('Label: ',mnist.train.labels[0])"
   ]
  },
  {
   "cell_type": "code",
   "execution_count": null,
   "metadata": {
    "collapsed": false,
    "scrolled": true
   },
   "outputs": [],
   "source": [
    "## take a look at firt 1000 images\n",
    "imgs = mnist.train.images[:400].reshape(-1,28,28)  ## unflaten 2d to 3d\n",
    "plt.imshow(montage(imgs),cmap='gray')              ## montage function is defined\n",
    "                                                   ## in utility "
   ]
  },
  {
   "cell_type": "markdown",
   "metadata": {},
   "source": [
    "#### Take a look at mean and standard deviation"
   ]
  },
  {
   "cell_type": "code",
   "execution_count": null,
   "metadata": {
    "collapsed": false
   },
   "outputs": [],
   "source": [
    "# Take the mean across all images\n",
    "mean_img = np.mean(imgs, axis=0)\n",
    "plt.imshow(mean_img, cmap='gray')"
   ]
  },
  {
   "cell_type": "code",
   "execution_count": null,
   "metadata": {
    "collapsed": false
   },
   "outputs": [],
   "source": [
    "# Take the mean across all images\n",
    "std_img = np.std(imgs, axis=0)\n",
    "plt.imshow(std_img)"
   ]
  },
  {
   "cell_type": "markdown",
   "metadata": {},
   "source": [
    "##### Now we can see, actually only the central part of the image chages, pixels on the edges does not really matter"
   ]
  },
  {
   "cell_type": "markdown",
   "metadata": {},
   "source": [
    "####  We will started with fully connected model "
   ]
  },
  {
   "cell_type": "markdown",
   "metadata": {},
   "source": [
    "To try and encode our dataset, we are going to build a series of fully connected layers that get progressively smaller. So in neural net speak, every pixel is going to become its own input neuron. And from the original 784 neurons, we're going to slowly reduce that information down to smaller and smaller numbers. It's often standard practice to use other powers of 2 or 10. I'll create a list of the number of dimensions we'll use for each new layer."
   ]
  },
  {
   "cell_type": "markdown",
   "metadata": {},
   "source": [
    "<img src='pic/autoencoder_0.png',height=400, width = 900>"
   ]
  },
  {
   "cell_type": "code",
   "execution_count": 4,
   "metadata": {
    "collapsed": false
   },
   "outputs": [],
   "source": [
    "dimensions = [512, 256, 128, 64]             # reduce the feature thourgh each layer\n",
    "n_features = mnist.train.images.shape[1]     # training set is a matrix, each row is a picture, with 784 pixels \n",
    "X = tf.placeholder(tf.float32, [None, n_features])  # first dimention is none, to make it flexible"
   ]
  },
  {
   "cell_type": "code",
   "execution_count": 5,
   "metadata": {
    "collapsed": false
   },
   "outputs": [
    {
     "name": "stdout",
     "output_type": "stream",
     "text": [
      "[784, 512]\n",
      "[512, 256]\n",
      "[256, 128]\n",
      "[128, 64]\n"
     ]
    }
   ],
   "source": [
    "##building the encoding network ###\n",
    "##################################\n",
    "current_input = X\n",
    "n_input = n_features\n",
    "Ws = []           # We're going to keep every matrix we create so let's create a list to hold them all\n",
    "\n",
    "# We'll create a for loop to create each layer, this is the same as we did in previous session:\n",
    "for layer_i, n_output in enumerate(dimensions):\n",
    "    with tf.variable_scope(\"encoder/layer/{}\".format(layer_i)): ## put each layer in scopes\n",
    "        W = tf.get_variable(\n",
    "            name='W',\n",
    "            shape=[n_input, n_output],\n",
    "            initializer=tf.random_normal_initializer(mean=0.0, stddev=0.02))\n",
    "        h = tf.matmul(current_input, W)\n",
    "        current_input = tf.nn.relu(h)\n",
    "        Ws.append(W)    # Finally we'll store the weight matrix so we can build the decoder.\n",
    "        n_input = n_output  ## change the dimension, make n_input to be n_output for next iteration"
   ]
  },
  {
   "cell_type": "code",
   "execution_count": 7,
   "metadata": {
    "collapsed": false
   },
   "outputs": [],
   "source": [
    "##building the decoding network ###\n",
    "##################################\n",
    "\n",
    "Ws = Ws[::-1]      # We'll first reverse the order of our weight matrices\n",
    "dimensions = dimensions[::-1][1:] + [ds.X.shape[1]] # then reverse the order of our dimensions\n",
    "print(dimensions)                                   # appending the last layers number of inputs.\n",
    "\n",
    "for layer_i, n_output in enumerate(dimensions):\n",
    "    with tf.variable_scope(\"decoder/layer/{}\".format(layer_i)):\n",
    "\n",
    "        # Now we'll grab the weight matrix we created before and transpose it\n",
    "        # So a 3072 x 784 matrix would become 784 x 3072\n",
    "        # or a 256 x 64 matrix, would become 64 x 256\n",
    "        W = tf.transpose(Ws[layer_i])\n",
    "\n",
    "        # Now we'll multiply our input by our transposed W matrix\n",
    "        h = tf.matmul(current_input, W)\n",
    "\n",
    "        # And then use a relu activation function on its output\n",
    "        current_input = tf.nn.relu(h)\n",
    "\n",
    "        # We'll also replace n_input with the current n_output, so that on the\n",
    "        # next iteration, our new number inputs will be correct.\n",
    "        n_input = n_output"
   ]
  },
  {
   "cell_type": "code",
   "execution_count": 9,
   "metadata": {
    "collapsed": false
   },
   "outputs": [
    {
     "data": {
      "text/plain": [
       "[64, 128, 256, 512]"
      ]
     },
     "execution_count": 9,
     "metadata": {},
     "output_type": "execute_result"
    }
   ],
   "source": [
    "dimensions[::-1]"
   ]
  },
  {
   "cell_type": "code",
   "execution_count": null,
   "metadata": {
    "collapsed": true
   },
   "outputs": [],
   "source": []
  }
 ],
 "metadata": {
  "kernelspec": {
   "display_name": "Python 3",
   "language": "python",
   "name": "python3"
  },
  "language_info": {
   "codemirror_mode": {
    "name": "ipython",
    "version": 3
   },
   "file_extension": ".py",
   "mimetype": "text/x-python",
   "name": "python",
   "nbconvert_exporter": "python",
   "pygments_lexer": "ipython3",
   "version": "3.6.0"
  }
 },
 "nbformat": 4,
 "nbformat_minor": 2
}

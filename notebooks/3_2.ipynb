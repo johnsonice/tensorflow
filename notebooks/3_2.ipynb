{
 "cells": [
  {
   "cell_type": "markdown",
   "metadata": {},
   "source": [
    "### Save / Loading Models "
   ]
  },
  {
   "cell_type": "markdown",
   "metadata": {},
   "source": [
    "Tensorflow provides a few ways of saving/loading models. The easiest way is to use a checkpoint. Though, this really useful while you are training your network. When you are ready to deploy or hand out your network to others, you don't want to pass checkpoints around as they contain a lot of unnecessary information, and it also requires you to still write code to create your network. Instead, you can create a protobuf which contains the definition of your graph and the model's weights. Let's see how to do both:"
   ]
  },
  {
   "cell_type": "markdown",
   "metadata": {},
   "source": [
    "#### read:\n",
    "https://github.com/pkmital/CADL/blob/master/session-3/lecture-3.ipynb"
   ]
  },
  {
   "cell_type": "markdown",
   "metadata": {},
   "source": [
    "#### Checkpoint"
   ]
  },
  {
   "cell_type": "code",
   "execution_count": 91,
   "metadata": {
    "collapsed": true
   },
   "outputs": [],
   "source": [
    "import tensorflow as tf\n",
    "import os\n",
    "import math"
   ]
  },
  {
   "cell_type": "code",
   "execution_count": 92,
   "metadata": {},
   "outputs": [],
   "source": [
    "#### just create a random variable \n",
    "def build_graph():\n",
    "    ## create a sample graph\n",
    "    with tf.name_scope(\"operation\"):\n",
    "        w1 = tf.placeholder(\"float\", name=\"w1\")\n",
    "        w2 = tf.placeholder(\"float\", name=\"w2\")\n",
    "        b1= tf.Variable(2.0,name=\"bias\")\n",
    "        #Define a test operation that we will restore\n",
    "        w3 = tf.add(w1,w2)\n",
    "        logits = tf.multiply(w3,b1)\n",
    "        logits = tf.identity(logits,name=\"logits\")\n",
    "    return w1,w2,logits"
   ]
  },
  {
   "cell_type": "code",
   "execution_count": 93,
   "metadata": {
    "collapsed": true
   },
   "outputs": [],
   "source": [
    "tf.reset_default_graph()"
   ]
  },
  {
   "cell_type": "code",
   "execution_count": 94,
   "metadata": {},
   "outputs": [
    {
     "name": "stdout",
     "output_type": "stream",
     "text": [
      "Model saved in file: ./ckpt/model.pb\n"
     ]
    }
   ],
   "source": [
    "## run build session \n",
    "with tf.Session() as sess:\n",
    "    w1,w2,logits = build_graph()\n",
    "    ## initialize option\n",
    "    init_all_op = tf.global_variables_initializer()\n",
    "    # Initializes all the variables.\n",
    "    sess.run(init_all_op)\n",
    "    # Runs to logit.\n",
    "    feed_dict ={w1:4,w2:8}\n",
    "    sess.run(logits,feed_dict)\n",
    "    # Creates a saver.\n",
    "    saver = tf.train.Saver()\n",
    "    #### save model in ckpt\n",
    "    save_path = saver.save(sess, path)\n",
    "    print(\"Model saved in file: %s\" % save_path)"
   ]
  },
  {
   "cell_type": "markdown",
   "metadata": {},
   "source": [
    "#### load ckpt file "
   ]
  },
  {
   "cell_type": "code",
   "execution_count": 95,
   "metadata": {
    "collapsed": true
   },
   "outputs": [],
   "source": [
    "tf.reset_default_graph()"
   ]
  },
  {
   "cell_type": "code",
   "execution_count": 96,
   "metadata": {},
   "outputs": [
    {
     "name": "stdout",
     "output_type": "stream",
     "text": [
      "INFO:tensorflow:Restoring parameters from ./ckpt/model.pb\n",
      "6.0\n"
     ]
    }
   ],
   "source": [
    "graph = tf.Graph()\n",
    "with tf.Session(graph = graph) as sess:\n",
    "    new_saver = tf.train.import_meta_graph(save_path+'.meta')\n",
    "    new_saver.restore(sess, save_path)\n",
    "    #saver.restore(sess,tf.train.latest_checkpoint('./'))\n",
    "    \n",
    "    ## variables names list \n",
    "    node_names = [n.name for n in graph.as_graph_def().node]\n",
    "    #print(node_names[-40:])\n",
    "    ## print out a particular variable \n",
    "    w1 = graph.get_tensor_by_name('operation/w1:0')\n",
    "    w2 = graph.get_tensor_by_name('operation/w2:0')\n",
    "    logits = graph.get_tensor_by_name('operation/logits:0')\n",
    "    \n",
    "    ## get and print logits \n",
    "    feed_dict = {w1:1,w2:2}\n",
    "    print(sess.run(logits,feed_dict))\n",
    "    "
   ]
  },
  {
   "cell_type": "markdown",
   "metadata": {},
   "source": [
    "### Protofuf"
   ]
  },
  {
   "cell_type": "code",
   "execution_count": 97,
   "metadata": {
    "collapsed": true
   },
   "outputs": [],
   "source": [
    "tf.reset_default_graph()"
   ]
  },
  {
   "cell_type": "code",
   "execution_count": 103,
   "metadata": {},
   "outputs": [
    {
     "name": "stdout",
     "output_type": "stream",
     "text": [
      "INFO:tensorflow:Froze 1 variables.\n",
      "Converted 1 variables to const ops.\n",
      "Model saved in file: ./ckpt/model.pb\n"
     ]
    }
   ],
   "source": [
    "path='./ckpt'\n",
    "fname = 'model.pb'\n",
    "output_node = ['operation/w1','operation/w2','operation/logits']\n",
    "## run build session \n",
    "graph=tf.Graph()\n",
    "with tf.Session(graph=graph) as sess:\n",
    "    w1,w2,logits = build_graph()\n",
    "    init_all_op = tf.global_variables_initializer()\n",
    "    sess.run(init_all_op)\n",
    "    feed_dict ={w1:4,w2:8}\n",
    "    sess.run(logits,feed_dict)\n",
    "\n",
    "    graph_def = tf.graph_util.convert_variables_to_constants(\n",
    "        sess, sess.graph_def, output_node)\n",
    "\n",
    "    tf.train.write_graph(graph_def,path,fname,as_text=False)\n",
    "    print(\"Model saved in file: %s\" % path+'/'+fname)"
   ]
  },
  {
   "cell_type": "markdown",
   "metadata": {},
   "source": [
    "##### load pb"
   ]
  },
  {
   "cell_type": "code",
   "execution_count": 104,
   "metadata": {},
   "outputs": [],
   "source": [
    "path='./ckpt/model.pb'\n",
    "tf.reset_default_graph()\n",
    "with open(path, mode='rb') as f:\n",
    "    graph_def = tf.GraphDef()\n",
    "    graph_def.ParseFromString(f.read())\n",
    "    tf.import_graph_def(graph_def, name='')"
   ]
  },
  {
   "cell_type": "code",
   "execution_count": 105,
   "metadata": {},
   "outputs": [
    {
     "name": "stdout",
     "output_type": "stream",
     "text": [
      "6.0\n"
     ]
    }
   ],
   "source": [
    "with tf.Session() as sess:\n",
    "    w1 = sess.graph.get_tensor_by_name('operation/w1:0')\n",
    "    w2 = sess.graph.get_tensor_by_name('operation/w2:0')\n",
    "    logits = sess.graph.get_tensor_by_name('operation/logits:0')\n",
    "    \n",
    "    ## get and print logits \n",
    "    feed_dict = {w1:1,w2:2}\n",
    "    print(sess.run(logits,feed_dict))"
   ]
  }
 ],
 "metadata": {
  "kernelspec": {
   "display_name": "Python 3",
   "language": "python",
   "name": "python3"
  },
  "language_info": {
   "codemirror_mode": {
    "name": "ipython",
    "version": 3
   },
   "file_extension": ".py",
   "mimetype": "text/x-python",
   "name": "python",
   "nbconvert_exporter": "python",
   "pygments_lexer": "ipython3",
   "version": "3.6.1"
  }
 },
 "nbformat": 4,
 "nbformat_minor": 2
}
